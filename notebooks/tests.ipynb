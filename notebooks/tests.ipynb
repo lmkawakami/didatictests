{
 "cells": [
  {
   "cell_type": "code",
   "execution_count": 5,
   "metadata": {},
   "outputs": [],
   "source": [
    "import pytest\n",
    "from example import Example\n",
    "\n",
    "def test_value_change():\n",
    "    start_val = 5\n",
    "    new_val = 20\n",
    "\n",
    "    example = Example(start_val)\n",
    "    example.update_value(new_val)\n",
    "    assert example.get_value() == new_val and example.get_previous_value() == start_val\n",
    "\n",
    "test_value_change()"
   ]
  },
  {
   "cell_type": "markdown",
   "metadata": {},
   "source": [
    "---"
   ]
  },
  {
   "cell_type": "code",
   "execution_count": 19,
   "metadata": {},
   "outputs": [],
   "source": [
    "import pytest\n",
    "from didatictests import Didatic_test\n",
    "\n",
    "# O.k\n",
    "def test_intercepted_fn():\n",
    "    def func(x,y,z):\n",
    "        print(x,y,z)\n",
    "        return x+y+z\n",
    "    interceptions = {}\n",
    "    func2 = Didatic_test.intercepted_fn(func, interceptions, verbose=False, input_identifier=\"\", print_identifier=\"\")\n",
    "    func2(1,2,3)\n",
    "    interceptions\n",
    "    assert interceptions == {'prints': ['1 2 3\\n'], 'inputs': [], 'args': (1, 2, 3), 'kwargs': {}, 'output': 6}"
   ]
  },
  {
   "cell_type": "code",
   "execution_count": 16,
   "metadata": {},
   "outputs": [
    {
     "data": {
      "text/plain": [
       "True"
      ]
     },
     "execution_count": 16,
     "metadata": {},
     "output_type": "execute_result"
    }
   ],
   "source": [
    "from didatictests import Didatic_test\n",
    "def func(x,y,z):\n",
    "    print(x,y,z)\n",
    "    return x+y+z\n",
    "\n",
    "interceptions = {}\n",
    "func2 = Didatic_test.intercepted_fn(func, interceptions, verbose=False, input_identifier=\"\", print_identifier=\"\")\n",
    "func2(1,2,3)\n",
    "interceptions == {'prints': ['1 2 3\\n'], 'inputs': [], 'args': (1, 2, 3), 'kwargs': {}, 'output': 6}"
   ]
  },
  {
   "cell_type": "markdown",
   "metadata": {},
   "source": [
    "---"
   ]
  },
  {
   "cell_type": "code",
   "execution_count": 47,
   "metadata": {},
   "outputs": [],
   "source": [
    "import pytest\n",
    "from didatictests import Didatic_test\n",
    "\n",
    "# O.k\n",
    "def test_run_tests():\n",
    "    def func(x,y,z):\n",
    "        print(x,y,z)\n",
    "        return x+y+z\n",
    "    tests = [Didatic_test(func, Didatic_test.parse_args(1, 2, z=3), 'teste-A', [], 6, '1 2 3\\n', True, True, True)]\n",
    "    assert Didatic_test.run_tests(tests) == [{'output_is_correct': True, 'print_is_correct': True, 'test_failed': False, 'test_done': True}]"
   ]
  },
  {
   "cell_type": "code",
   "execution_count": 44,
   "metadata": {},
   "outputs": [
    {
     "data": {
      "text/plain": [
       "True"
      ]
     },
     "execution_count": 44,
     "metadata": {},
     "output_type": "execute_result"
    }
   ],
   "source": [
    "from didatictests import Didatic_test\n",
    "\n",
    "def func(x,y,z):\n",
    "    print(x,y,z)\n",
    "    return x+y+z\n",
    "tests = [Didatic_test(func, Didatic_test.parse_args(1, 2, z=3), 'teste-A', [], 6, '1 2 3\\n', True, True, True)]\n",
    "Didatic_test.run_tests(tests) == [{'output_is_correct': True, 'print_is_correct': True, 'test_failed': False, 'test_done': True}]"
   ]
  },
  {
   "cell_type": "markdown",
   "metadata": {},
   "source": [
    "---"
   ]
  },
  {
   "cell_type": "code",
   "execution_count": 32,
   "metadata": {},
   "outputs": [],
   "source": [
    "import pytest\n",
    "from didatictests import Didatic_test\n",
    "\n",
    "# O.k\n",
    "def test_redefine():\n",
    "    def func(x,y,z):\n",
    "        w = int(input(\"Digite o valor de w: \"))\n",
    "        print(w,x,y,z)\n",
    "        return w+x+y+z\n",
    "    redefined_func = Didatic_test.redefine(func, ['10'], True)\n",
    "    assert redefined_func(1,2,3) == 16"
   ]
  },
  {
   "cell_type": "code",
   "execution_count": 29,
   "metadata": {},
   "outputs": [
    {
     "data": {
      "text/plain": [
       "True"
      ]
     },
     "execution_count": 29,
     "metadata": {},
     "output_type": "execute_result"
    }
   ],
   "source": [
    "from didatictests import Didatic_test\n",
    "\n",
    "def func(x,y,z):\n",
    "    w = int(input(\"Digite o valor de w: \"))\n",
    "    print(w,x,y,z)\n",
    "    return w+x+y+z\n",
    "\n",
    "redefined_func = Didatic_test.redefine(func, ['10'], True)\n",
    "redefined_func(1,2,3) == 16"
   ]
  },
  {
   "cell_type": "markdown",
   "metadata": {},
   "source": [
    "---"
   ]
  },
  {
   "cell_type": "code",
   "execution_count": 37,
   "metadata": {},
   "outputs": [],
   "source": [
    "import pytest\n",
    "from didatictests import Didatic_test\n",
    "\n",
    "# O.k\n",
    "def test_parse_args():\n",
    "    args = Didatic_test.parse_args(0,1,2,'a',True,None,(0,1,0),['1',False],{1:5},a=2,b='a',c=True,d=None,e=(0,1,0),f=['1',False],g={1:5})\n",
    "    assert args == {\n",
    "        'pos_inputs': (0, 1, 2, 'a', True, None, (0, 1, 0), ['1', False], {1: 5}),\n",
    "        'key_inputs': {'a': 2,\n",
    "            'b': 'a',\n",
    "            'c': True,\n",
    "            'd': None,\n",
    "            'e': (0, 1, 0),\n",
    "            'f': ['1', False],\n",
    "            'g': {1: 5}\n",
    "        }\n",
    "    }\n"
   ]
  },
  {
   "cell_type": "code",
   "execution_count": 34,
   "metadata": {},
   "outputs": [
    {
     "data": {
      "text/plain": [
       "True"
      ]
     },
     "execution_count": 34,
     "metadata": {},
     "output_type": "execute_result"
    }
   ],
   "source": [
    "from didatictests import Didatic_test\n",
    "\n",
    "Didatic_test.parse_args(0,1,2,'a',True,None,(0,1,0),['1',False],{1:5},a=2,b='a',c=True,d=None,e=(0,1,0),f=['1',False],g={1:5}) == {\n",
    "        'pos_inputs': (0, 1, 2, 'a', True, None, (0, 1, 0), ['1', False], {1: 5}),\n",
    "        'key_inputs': {'a': 2,\n",
    "            'b': 'a',\n",
    "            'c': True,\n",
    "            'd': None,\n",
    "            'e': (0, 1, 0),\n",
    "            'f': ['1', False],\n",
    "            'g': {1: 5}\n",
    "        }\n",
    "    }"
   ]
  },
  {
   "cell_type": "markdown",
   "metadata": {},
   "source": [
    "---"
   ]
  },
  {
   "cell_type": "code",
   "execution_count": null,
   "metadata": {},
   "outputs": [],
   "source": [
    "import pytest\n",
    "from didatictests import Didatic_test\n",
    "\n",
    "# O.k\n",
    "def test_run_tests():\n",
    "    def func(x,y,z):\n",
    "        print(x,y,z)\n",
    "        return x+y+z\n",
    "    test_code = Didatic_test.generate_test(func, Didatic_test.parse_args(1,2,z=3),'teste-A',True,True,True,True)\n",
    "    assert test_code == \"Didatic_test(func, Didatic_test.parse_args(1, 2, z=3), 'teste-A', [], 6, '1 2 3\\n', True, True, True)\""
   ]
  },
  {
   "cell_type": "code",
   "execution_count": null,
   "metadata": {},
   "outputs": [],
   "source": [
    "from didatictests import Didatic_test\n",
    "\n",
    "def func(x,y,z):\n",
    "    print(x,y,z)\n",
    "    return x+y+z\n",
    "\n",
    "Didatic_test.generate_test(func, Didatic_test.parse_args(1,2,z=3),'teste-A',True,True,True,True) == \"Didatic_test(func, Didatic_test.parse_args(1, 2, z=3), 'teste-A', [], 6, '1 2 3\\n', True, True, True)\""
   ]
  },
  {
   "cell_type": "markdown",
   "metadata": {},
   "source": [
    "---"
   ]
  }
 ],
 "metadata": {
  "interpreter": {
   "hash": "8fac594bfae6525c0c41b4041d2d72effa188cc8ead05f81b1fab2bb098927fb"
  },
  "kernelspec": {
   "display_name": "Python 3.8.5 64-bit ('base': conda)",
   "language": "python",
   "name": "python3"
  },
  "language_info": {
   "codemirror_mode": {
    "name": "ipython",
    "version": 3
   },
   "file_extension": ".py",
   "mimetype": "text/x-python",
   "name": "python",
   "nbconvert_exporter": "python",
   "pygments_lexer": "ipython3",
   "version": "3.8.5"
  },
  "orig_nbformat": 4
 },
 "nbformat": 4,
 "nbformat_minor": 2
}

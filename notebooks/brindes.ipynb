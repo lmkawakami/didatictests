{
 "cells": [
  {
   "cell_type": "markdown",
   "metadata": {},
   "source": [
    "# Algumas funções que saem de brinde das implementações do pacote\n",
    "## Nem sempre úteis, mais uma curiosidade mesmo"
   ]
  },
  {
   "cell_type": "code",
   "execution_count": 1,
   "metadata": {},
   "outputs": [],
   "source": [
    "from didatictests import Didatic_test"
   ]
  },
  {
   "cell_type": "markdown",
   "metadata": {},
   "source": [
    "### `intercepted_fn()`\n",
    "Recebe uma função `fn` como um dos argumentos e um dicionário de interceptações e retorna uma função que parece idêntica à função `fn`, porém se a função retornada for executada, todos os argumentos passados pra ela, inputs do usuário, prints e retornos serão interceptados e salvos no dicionário de interceptações"
   ]
  },
  {
   "cell_type": "code",
   "execution_count": 5,
   "metadata": {},
   "outputs": [
    {
     "name": "stdout",
     "output_type": "stream",
     "text": [
      "[I] Digite o valor de w: 10\n",
      "[P] A soma é: 16\n"
     ]
    },
    {
     "data": {
      "text/plain": [
       "{'prints': ['A soma é: 16\\n'],\n",
       " 'inputs': ['10'],\n",
       " 'args': (1, 2),\n",
       " 'kwargs': {'z': 3},\n",
       " 'output': 16}"
      ]
     },
     "execution_count": 5,
     "metadata": {},
     "output_type": "execute_result"
    }
   ],
   "source": [
    "def func_soma(x,y,z):\n",
    "    w = int(input(\"Digite o valor de w: \"))\n",
    "    soma = sum([w,x,y,z])\n",
    "    print(\"A soma é:\", soma)\n",
    "    return soma\n",
    "\n",
    "dic_intercept = {}\n",
    "func_interceptada = Didatic_test.intercepted_fn(func_soma, dic_intercept, verbose=True, input_identifier='[I] ', print_identifier='[P] ')\n",
    "func_interceptada(1,2,z=3)\n",
    "dic_intercept"
   ]
  },
  {
   "cell_type": "markdown",
   "metadata": {},
   "source": [
    "---"
   ]
  },
  {
   "cell_type": "markdown",
   "metadata": {},
   "source": [
    "\n",
    "### `redefine()`\n",
    "Recebe uma função `fn` como um dos argumentos e uma lista de strings para simular inputs do usuário. Retorna uma função que parece idêntica à função `fn`, porém no lugar de chamar a função `input()` normal que retorna o valor digitado pelo usuário, irá usar a lista de estrings passada anteriormente, consumindo um valor a cada invocação de `input()`"
   ]
  },
  {
   "cell_type": "code",
   "execution_count": 6,
   "metadata": {},
   "outputs": [
    {
     "name": "stdout",
     "output_type": "stream",
     "text": [
      "Digite o valor de w:  25\n",
      "A soma é: 85\n"
     ]
    },
    {
     "data": {
      "text/plain": [
       "85"
      ]
     },
     "execution_count": 6,
     "metadata": {},
     "output_type": "execute_result"
    }
   ],
   "source": [
    "def func_soma(x,y,z):\n",
    "    w = int(input(\"Digite o valor de w: \"))\n",
    "    soma = sum([w,x,y,z])\n",
    "    print(\"A soma é:\", soma)\n",
    "    return soma\n",
    "\n",
    "func_redefinifa = Didatic_test.redefine(func_soma, ['25'], True)\n",
    "func_redefinifa(10,20,z=30)"
   ]
  },
  {
   "cell_type": "markdown",
   "metadata": {},
   "source": [
    "---"
   ]
  },
  {
   "cell_type": "markdown",
   "metadata": {},
   "source": [
    "### `auto_redefine()`\n",
    "Muito similar com a função `redefine()`, porém em vez de receber a lista de inputs simulados como argumento, invoca a função `fn` uma vez pedindo todos os inputs pro usuário, porém intercepta esses valores e deixa salvo pra gerar uma função redefinida que irá usar automaticamente esses mesmos inputs informados"
   ]
  },
  {
   "cell_type": "code",
   "execution_count": 7,
   "metadata": {},
   "outputs": [
    {
     "name": "stdout",
     "output_type": "stream",
     "text": [
      "[I]: Digite o valor de w: 1\n",
      "[O]: A soma é: 7\n",
      "Digite o valor de w:  1\n",
      "A soma é: 7\n",
      "Digite o valor de w:  1\n",
      "A soma é: 61\n"
     ]
    },
    {
     "data": {
      "text/plain": [
       "61"
      ]
     },
     "execution_count": 7,
     "metadata": {},
     "output_type": "execute_result"
    }
   ],
   "source": [
    "def varios_inputs(x, y, z):\n",
    "    print(\"---------------------------------\")\n",
    "    a = int(input(\"Digite o valor de 'a': \"))\n",
    "    b = int(input(\"Digite o valor de 'b': \"))\n",
    "    c = int(input(\"Digite o valor de 'c': \"))\n",
    "    print(\"Os argumentos passados foram:\", x, y, z)\n",
    "    print(\"Os argumentos inputados foram:\", a, b, c)\n",
    "    print(\"---------------------------------\")\n",
    "    return sum([a, b, c, x, y, z])\n",
    "\n",
    "\n",
    "func_redefinifa = Didatic_test.auto_redefine(\n",
    "    func_soma, Didatic_test.parse_args(1, 2, z=3), True\n",
    ")\n",
    "func_redefinifa(1, 2, z=3)\n",
    "func_redefinifa(10, 20, 30)\n"
   ]
  }
 ],
 "metadata": {
  "interpreter": {
   "hash": "5c3b02fa24688d32a1d09351b7f8eac82a87272ad081601c73caead00a8e1fc4"
  },
  "kernelspec": {
   "display_name": "Python 2.7.17 64-bit (system)",
   "language": "python",
   "name": "python3"
  },
  "language_info": {
   "codemirror_mode": {
    "name": "ipython",
    "version": 3
   },
   "file_extension": ".py",
   "mimetype": "text/x-python",
   "name": "python",
   "nbconvert_exporter": "python",
   "pygments_lexer": "ipython3",
   "version": "3.8.5"
  },
  "orig_nbformat": 4
 },
 "nbformat": 4,
 "nbformat_minor": 2
}

{
 "cells": [
  {
   "cell_type": "code",
   "execution_count": 1,
   "metadata": {},
   "outputs": [],
   "source": [
    "from didatictests import Didatic_test as Dt"
   ]
  },
  {
   "cell_type": "markdown",
   "metadata": {},
   "source": [
    "# Redefinindo funções para simular entradas do usuário e evitar de ficar redigitando toda hora\n",
    "Imagine que uma etapa do seu projeto atual é fazer um questionário e depois usar as respostas em outras partes do seu programa.\n",
    "\n",
    "Você cria uma função para fazer o questionário, mas percebe que dá muito trabalho ficar digitando as respostas novamente toda vez que for desenvolver/testar as partes do programa que usam essa sua função.\n",
    "\n",
    "Isso pode ser contornado de várias formas, mas a mais prática deve ser 'auto-redefinir' sua função para que ela rode uma vez, memorize todos os seus inputs e depois passe a simular eles como entrada\n",
    "\n",
    "Se você quiser um outro conjunto de entradas diferentes, basta recrear e 'auto-redefinir' ela novamente"
   ]
  },
  {
   "cell_type": "code",
   "execution_count": 8,
   "metadata": {},
   "outputs": [],
   "source": [
    "def fazer_questionario():\n",
    "    questionario = {\n",
    "        'nome': 'Informe o seu nome: ',\n",
    "        'idade': 'Informe sua idade: ',\n",
    "        'peso': 'Informe o seu peso: ',\n",
    "        'altura': 'Informe a sua altura: ',\n",
    "        'nascimento': 'Informe sua data de nascimento: ',\n",
    "        'cor_vavorita': 'Sua cor favorita é: '\n",
    "    }\n",
    "\n",
    "    respostas = {}\n",
    "    for atr, pergunta in questionario.items():\n",
    "        respostas[atr] = input(pergunta)\n",
    "    \n",
    "    return respostas\n",
    "\n",
    "fazer_questionario = Dt.auto_redefine(fazer_questionario, input_verbose=True)"
   ]
  },
  {
   "cell_type": "markdown",
   "metadata": {},
   "source": [
    "Com isso a função acaba sendo chamada 1 vez logo apos ser definida e todos os inputs do usuário ficam salvos internamente para serem repetidos automaticamente em todas as chamadas seguintes. Se quiser usar um novo conjunto de entradas, basta rodar a célular acima outra vez e informar os novos inputs."
   ]
  },
  {
   "cell_type": "code",
   "execution_count": 19,
   "metadata": {},
   "outputs": [
    {
     "name": "stdout",
     "output_type": "stream",
     "text": [
      "Informe o seu nome:  makoto\n",
      "Informe sua idade:  27\n",
      "Informe o seu peso:  82\n",
      "Informe a sua altura:  1.85\n",
      "Informe sua data de nascimento:  25/06/1994\n",
      "Sua cor favorita é:  azul\n"
     ]
    }
   ],
   "source": [
    "fazer_questionario()"
   ]
  },
  {
   "cell_type": "markdown",
   "metadata": {},
   "source": [
    "Outra maneira é já deixar definido no código a sequencia de inputs simulados pelo usuário em vez de rodar o programa uma vez para capturar e salvar as entradas:"
   ]
  },
  {
   "cell_type": "code",
   "execution_count": null,
   "metadata": {},
   "outputs": [],
   "source": [
    "def fazer_questionario():\n",
    "    questionario = {\n",
    "        'nome': 'Informe o seu nome: ',\n",
    "        'idade': 'Informe sua idade: ',\n",
    "        'peso': 'Informe o seu peso: ',\n",
    "        'altura': 'Informe a sua altura: ',\n",
    "        'nascimento': 'Informe sua data de nascimento: ',\n",
    "        'cor_vavorita': 'Sua cor favorita é: '\n",
    "    }\n",
    "\n",
    "    respostas = {}\n",
    "    for atr, pergunta in questionario.items():\n",
    "        respostas[atr] = input(pergunta)\n",
    "    \n",
    "    return respostas\n",
    "\n",
    "fazer_questionario = Dt.redefine(fazer_questionario, ('Makoto', '27', '82', '1.85', '25/06/1994', 'azul'), input_verbose=True)"
   ]
  },
  {
   "cell_type": "code",
   "execution_count": 20,
   "metadata": {},
   "outputs": [
    {
     "name": "stdout",
     "output_type": "stream",
     "text": [
      "Informe o seu nome:  makoto\n",
      "Informe sua idade:  27\n",
      "Informe o seu peso:  82\n",
      "Informe a sua altura:  1.85\n",
      "Informe sua data de nascimento:  25/06/1994\n",
      "Sua cor favorita é:  azul\n"
     ]
    }
   ],
   "source": [
    "fazer_questionario()"
   ]
  },
  {
   "cell_type": "markdown",
   "metadata": {},
   "source": []
  },
  {
   "cell_type": "code",
   "execution_count": 5,
   "metadata": {},
   "outputs": [
    {
     "ename": "AttributeError",
     "evalue": "type object 'Didatic_test' has no attribute 'auto_redefine'",
     "output_type": "error",
     "traceback": [
      "\u001b[1;31m---------------------------------------------------------------------------\u001b[0m",
      "\u001b[1;31mAttributeError\u001b[0m                            Traceback (most recent call last)",
      "\u001b[1;32m~\\AppData\\Local\\Temp/ipykernel_13720/1146248630.py\u001b[0m in \u001b[0;36m<module>\u001b[1;34m\u001b[0m\n\u001b[0;32m      5\u001b[0m     \u001b[1;32mreturn\u001b[0m \u001b[0minput_1\u001b[0m \u001b[1;33m+\u001b[0m \u001b[0minput_2\u001b[0m \u001b[1;33m+\u001b[0m \u001b[0mx\u001b[0m \u001b[1;33m+\u001b[0m \u001b[0my\u001b[0m \u001b[1;33m+\u001b[0m \u001b[0mz\u001b[0m \u001b[1;33m+\u001b[0m \u001b[0msum\u001b[0m\u001b[1;33m(\u001b[0m\u001b[0margs\u001b[0m\u001b[1;33m)\u001b[0m\u001b[1;33m\u001b[0m\u001b[1;33m\u001b[0m\u001b[0m\n\u001b[0;32m      6\u001b[0m \u001b[1;33m\u001b[0m\u001b[0m\n\u001b[1;32m----> 7\u001b[1;33m \u001b[0margs_plus_inputs\u001b[0m \u001b[1;33m=\u001b[0m \u001b[0mDt\u001b[0m\u001b[1;33m.\u001b[0m\u001b[0mauto_redefine\u001b[0m\u001b[1;33m(\u001b[0m\u001b[0margs_plus_inputs\u001b[0m\u001b[1;33m,\u001b[0m \u001b[0minput_verbose\u001b[0m\u001b[1;33m=\u001b[0m\u001b[1;32mTrue\u001b[0m\u001b[1;33m)\u001b[0m\u001b[1;33m\u001b[0m\u001b[1;33m\u001b[0m\u001b[0m\n\u001b[0m",
      "\u001b[1;31mAttributeError\u001b[0m: type object 'Didatic_test' has no attribute 'auto_redefine'"
     ]
    }
   ],
   "source": [
    "def args_plus_inputs(*args, x, y, z):\n",
    "    input_1 = int(input(\"Choose the first number: \"))\n",
    "    input_2 = int(input(\"Choose the second number: \"))\n",
    "    print(f\"Computing {input_1} + {input_2} + {x} + {y} + {z} + {args}\")\n",
    "    return input_1 + input_2 + x + y + z + sum(args)\n",
    "\n",
    "args_plus_inputs = Dt.auto_redefine(args_plus_inputs, input_verbose=True)"
   ]
  },
  {
   "cell_type": "code",
   "execution_count": 2,
   "metadata": {},
   "outputs": [
    {
     "name": "stdout",
     "output_type": "stream",
     "text": [
      "[P]: O n informado foi: 0\n",
      "[I]: Digite um número:  1\n",
      "[I]: Digite outro número:  2\n",
      "[P]: 3\n",
      "\n"
     ]
    },
    {
     "data": {
      "text/plain": [
       "True"
      ]
     },
     "execution_count": 2,
     "metadata": {},
     "output_type": "execute_result"
    }
   ],
   "source": [
    "def soma_inputs_e_printa(n=0):\n",
    "    print(\"O n informado foi:\", n)\n",
    "    a = int(input(\"Digite um número: \"))\n",
    "    b = int(input(\"Digite outro número: \"))\n",
    "    print(a+b+n)\n",
    "\n",
    "test = Dt(soma_inputs_e_printa, keyboard_inputs=('1','2'), verbose=True)\n",
    "\n",
    "test.just_run()"
   ]
  },
  {
   "cell_type": "code",
   "execution_count": 3,
   "metadata": {},
   "outputs": [
    {
     "data": {
      "text/plain": [
       "<function didatictests.Didatic_test.redefiner(fn, keyboard_inputs, input_verbose=False)>"
      ]
     },
     "execution_count": 3,
     "metadata": {},
     "output_type": "execute_result"
    }
   ],
   "source": [
    "Dt.redefine"
   ]
  },
  {
   "cell_type": "code",
   "execution_count": 1,
   "metadata": {},
   "outputs": [
    {
     "data": {
      "text/plain": [
       "50.0"
      ]
     },
     "execution_count": 1,
     "metadata": {},
     "output_type": "execute_result"
    }
   ],
   "source": []
  },
  {
   "cell_type": "code",
   "execution_count": 4,
   "metadata": {},
   "outputs": [
    {
     "name": "stdout",
     "output_type": "stream",
     "text": [
      "O n informado foi: 0\n",
      "10\n",
      "O n informado foi: 0\n",
      "10\n"
     ]
    }
   ],
   "source": [
    "nova = Dt.redefine(soma_inputs_e_printa,('5','7'))\n",
    "nova()\n",
    "nova()"
   ]
  },
  {
   "cell_type": "code",
   "execution_count": 4,
   "metadata": {},
   "outputs": [
    {
     "name": "stdout",
     "output_type": "stream",
     "text": [
      "12\n"
     ]
    },
    {
     "data": {
      "text/plain": [
       "['7', '5']"
      ]
     },
     "execution_count": 4,
     "metadata": {},
     "output_type": "execute_result"
    }
   ],
   "source": [
    "Dt.input_interceptor(soma_inputs_e_printa)"
   ]
  },
  {
   "cell_type": "code",
   "execution_count": 5,
   "metadata": {},
   "outputs": [
    {
     "name": "stdout",
     "output_type": "stream",
     "text": [
      "O n informado foi: 0\n",
      "2019\n"
     ]
    }
   ],
   "source": [
    "auto_nova = Dt.auto_redefine(soma_inputs_e_printa, input_verbose=True)"
   ]
  },
  {
   "cell_type": "code",
   "execution_count": 11,
   "metadata": {},
   "outputs": [
    {
     "name": "stdout",
     "output_type": "stream",
     "text": [
      "O n informado foi: 75\n",
      "Digite um número:  1994\n",
      "Digite outro número:  1994\n",
      "4063\n"
     ]
    }
   ],
   "source": [
    "auto_nova(75)"
   ]
  }
 ],
 "metadata": {
  "interpreter": {
   "hash": "63fd5069d213b44bf678585dea6b12cceca9941eaf7f819626cde1f2670de90d"
  },
  "kernelspec": {
   "display_name": "Python 3.9.6 64-bit",
   "language": "python",
   "name": "python3"
  },
  "language_info": {
   "codemirror_mode": {
    "name": "ipython",
    "version": 3
   },
   "file_extension": ".py",
   "mimetype": "text/x-python",
   "name": "python",
   "nbconvert_exporter": "python",
   "pygments_lexer": "ipython3",
   "version": "3.9.6"
  },
  "orig_nbformat": 4
 },
 "nbformat": 4,
 "nbformat_minor": 2
}

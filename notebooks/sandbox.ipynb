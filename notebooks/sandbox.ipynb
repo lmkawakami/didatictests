{
 "cells": [
  {
   "cell_type": "code",
   "execution_count": 5,
   "metadata": {},
   "outputs": [
    {
     "name": "stdout",
     "output_type": "stream",
     "text": [
      "[I]: One number, please: t\n",
      "[P]: Case: Error demo\n",
      "[P]: 🚨⚠️🚨⚠️🚨 Error! 💀💀💀\n",
      "[P]: <class 'ValueError'>\n",
      "[P]: (\"invalid literal for int() with base 10: 't'\",)\n",
      "[P]: invalid literal for int() with base 10: 't'\n",
      "[P]: ---------------------------------------------------\n"
     ]
    }
   ],
   "source": [
    "from didatictests import Didatic_test\n",
    "\n",
    "def the_function(arg):\n",
    "    inp = input(\"One number, please: \")\n",
    "    total = arg + int(inp)\n",
    "    print(total)\n",
    "    return total\n",
    "\n",
    "test3 = Didatic_test(\n",
    "    fn = the_function,\n",
    "    args = Dt.parse_args('forty'),\n",
    "    keyboard_inputs = ('two'),\n",
    "    test_name = 'Error demo',\n",
    "    expected_output = 42,\n",
    "    expected_prints = '42\\n',\n",
    "    run_prints_test = True,\n",
    "    run_output_test = True,\n",
    "    verbose=True\n",
    ")\n",
    "\n",
    "test3.run()\n",
    "pass"
   ]
  },
  {
   "cell_type": "markdown",
   "metadata": {},
   "source": [
    "# Redefinindo funções para simular entradas do usuário e evitar de ficar redigitando toda hora\n",
    "Imagine que uma etapa do seu projeto atual é fazer um questionário e depois usar as respostas em outras partes do seu programa.\n",
    "\n",
    "Você cria uma função para fazer o questionário, mas percebe que dá muito trabalho ficar digitando as respostas novamente toda vez que for desenvolver/testar as partes do programa que usam essa sua função.\n",
    "\n",
    "Isso pode ser contornado de várias formas, mas a mais prática deve ser 'auto-redefinir' sua função para que ela rode uma vez, memorize todos os seus inputs e depois passe a simular eles como entrada\n",
    "\n",
    "Se você quiser um outro conjunto de entradas diferentes, basta recrear e 'auto-redefinir' ela novamente"
   ]
  },
  {
   "cell_type": "code",
   "execution_count": 2,
   "metadata": {},
   "outputs": [],
   "source": [
    "def fazer_questionario():\n",
    "    questionario = {\n",
    "        'nome': 'Informe o seu nome: ',\n",
    "        'idade': 'Informe sua idade: ',\n",
    "        'peso': 'Informe o seu peso: ',\n",
    "        'altura': 'Informe a sua altura: ',\n",
    "        'nascimento': 'Informe sua data de nascimento: ',\n",
    "        'cor_vavorita': 'Sua cor favorita é: '\n",
    "    }\n",
    "\n",
    "    respostas = {}\n",
    "    for atr, pergunta in questionario.items():\n",
    "        respostas[atr] = input(pergunta)\n",
    "    \n",
    "    return respostas\n",
    "\n",
    "fazer_questionario = Dt.auto_redefine(fazer_questionario, input_verbose=True)"
   ]
  },
  {
   "cell_type": "markdown",
   "metadata": {},
   "source": [
    "Com isso a função acaba sendo chamada 1 vez logo apos ser definida e todos os inputs do usuário ficam salvos internamente para serem repetidos automaticamente em todas as chamadas seguintes. Se quiser usar um novo conjunto de entradas, basta rodar a célular acima outra vez e informar os novos inputs."
   ]
  },
  {
   "cell_type": "code",
   "execution_count": null,
   "metadata": {},
   "outputs": [
    {
     "name": "stdout",
     "output_type": "stream",
     "text": [
      "Informe o seu nome:  makoto\n",
      "Informe sua idade:  27\n",
      "Informe o seu peso:  82\n",
      "Informe a sua altura:  1.85\n",
      "Informe sua data de nascimento:  25/06/1994\n",
      "Sua cor favorita é:  azul\n"
     ]
    }
   ],
   "source": [
    "fazer_questionario()"
   ]
  },
  {
   "cell_type": "markdown",
   "metadata": {},
   "source": [
    "Outra maneira é já deixar definido no código a sequencia de inputs simulados pelo usuário em vez de rodar o programa uma vez para capturar e salvar as entradas:"
   ]
  },
  {
   "cell_type": "code",
   "execution_count": null,
   "metadata": {},
   "outputs": [],
   "source": [
    "def fazer_questionario():\n",
    "    questionario = {\n",
    "        'nome': 'Informe o seu nome: ',\n",
    "        'idade': 'Informe sua idade: ',\n",
    "        'peso': 'Informe o seu peso: ',\n",
    "        'altura': 'Informe a sua altura: ',\n",
    "        'nascimento': 'Informe sua data de nascimento: ',\n",
    "        'cor_vavorita': 'Sua cor favorita é: '\n",
    "    }\n",
    "\n",
    "    respostas = {}\n",
    "    for atr, pergunta in questionario.items():\n",
    "        respostas[atr] = input(pergunta)\n",
    "    \n",
    "    return respostas\n",
    "\n",
    "fazer_questionario = Dt.redefine(fazer_questionario, ('Makoto', '27', '82', '1.85', '25/06/1994', 'azul'), input_verbose=True)"
   ]
  },
  {
   "cell_type": "code",
   "execution_count": null,
   "metadata": {},
   "outputs": [
    {
     "name": "stdout",
     "output_type": "stream",
     "text": [
      "Informe o seu nome:  makoto\n",
      "Informe sua idade:  27\n",
      "Informe o seu peso:  82\n",
      "Informe a sua altura:  1.85\n",
      "Informe sua data de nascimento:  25/06/1994\n",
      "Sua cor favorita é:  azul\n"
     ]
    }
   ],
   "source": [
    "fazer_questionario()"
   ]
  },
  {
   "cell_type": "markdown",
   "metadata": {},
   "source": []
  },
  {
   "cell_type": "code",
   "execution_count": null,
   "metadata": {},
   "outputs": [
    {
     "ename": "AttributeError",
     "evalue": "type object 'Didatic_test' has no attribute 'auto_redefine'",
     "output_type": "error",
     "traceback": [
      "\u001b[1;31m---------------------------------------------------------------------------\u001b[0m",
      "\u001b[1;31mAttributeError\u001b[0m                            Traceback (most recent call last)",
      "\u001b[1;32m~\\AppData\\Local\\Temp/ipykernel_13720/1146248630.py\u001b[0m in \u001b[0;36m<module>\u001b[1;34m\u001b[0m\n\u001b[0;32m      5\u001b[0m     \u001b[1;32mreturn\u001b[0m \u001b[0minput_1\u001b[0m \u001b[1;33m+\u001b[0m \u001b[0minput_2\u001b[0m \u001b[1;33m+\u001b[0m \u001b[0mx\u001b[0m \u001b[1;33m+\u001b[0m \u001b[0my\u001b[0m \u001b[1;33m+\u001b[0m \u001b[0mz\u001b[0m \u001b[1;33m+\u001b[0m \u001b[0msum\u001b[0m\u001b[1;33m(\u001b[0m\u001b[0margs\u001b[0m\u001b[1;33m)\u001b[0m\u001b[1;33m\u001b[0m\u001b[1;33m\u001b[0m\u001b[0m\n\u001b[0;32m      6\u001b[0m \u001b[1;33m\u001b[0m\u001b[0m\n\u001b[1;32m----> 7\u001b[1;33m \u001b[0margs_plus_inputs\u001b[0m \u001b[1;33m=\u001b[0m \u001b[0mDt\u001b[0m\u001b[1;33m.\u001b[0m\u001b[0mauto_redefine\u001b[0m\u001b[1;33m(\u001b[0m\u001b[0margs_plus_inputs\u001b[0m\u001b[1;33m,\u001b[0m \u001b[0minput_verbose\u001b[0m\u001b[1;33m=\u001b[0m\u001b[1;32mTrue\u001b[0m\u001b[1;33m)\u001b[0m\u001b[1;33m\u001b[0m\u001b[1;33m\u001b[0m\u001b[0m\n\u001b[0m",
      "\u001b[1;31mAttributeError\u001b[0m: type object 'Didatic_test' has no attribute 'auto_redefine'"
     ]
    }
   ],
   "source": [
    "def args_plus_inputs(*args, x, y, z):\n",
    "    input_1 = int(input(\"Choose the first number: \"))\n",
    "    input_2 = int(input(\"Choose the second number: \"))\n",
    "    print(f\"Computing {input_1} + {input_2} + {x} + {y} + {z} + {args}\")\n",
    "    return input_1 + input_2 + x + y + z + sum(args)\n",
    "\n",
    "args_plus_inputs = Dt.auto_redefine(args_plus_inputs, input_verbose=True)"
   ]
  },
  {
   "cell_type": "code",
   "execution_count": null,
   "metadata": {},
   "outputs": [
    {
     "name": "stdout",
     "output_type": "stream",
     "text": [
      "[P]: O n informado foi: 0\n",
      "[I]: Digite um número:  1\n",
      "[I]: Digite outro número:  2\n",
      "[P]: 3\n",
      "\n"
     ]
    },
    {
     "data": {
      "text/plain": [
       "True"
      ]
     },
     "execution_count": 2,
     "metadata": {},
     "output_type": "execute_result"
    }
   ],
   "source": [
    "def soma_inputs_e_printa(n=0):\n",
    "    print(\"O n informado foi:\", n)\n",
    "    a = int(input(\"Digite um número: \"))\n",
    "    b = int(input(\"Digite outro número: \"))\n",
    "    print(a+b+n)\n",
    "\n",
    "test = Dt(soma_inputs_e_printa, keyboard_inputs=('1','2'), verbose=True)\n",
    "\n",
    "test.just_run()"
   ]
  },
  {
   "cell_type": "code",
   "execution_count": null,
   "metadata": {},
   "outputs": [
    {
     "data": {
      "text/plain": [
       "<function didatictests.Didatic_test.redefiner(fn, keyboard_inputs, input_verbose=False)>"
      ]
     },
     "execution_count": 3,
     "metadata": {},
     "output_type": "execute_result"
    }
   ],
   "source": [
    "Dt.redefine"
   ]
  },
  {
   "cell_type": "code",
   "execution_count": null,
   "metadata": {},
   "outputs": [
    {
     "data": {
      "text/plain": [
       "50.0"
      ]
     },
     "execution_count": 1,
     "metadata": {},
     "output_type": "execute_result"
    }
   ],
   "source": []
  },
  {
   "cell_type": "code",
   "execution_count": null,
   "metadata": {},
   "outputs": [
    {
     "name": "stdout",
     "output_type": "stream",
     "text": [
      "O n informado foi: 0\n",
      "10\n",
      "O n informado foi: 0\n",
      "10\n"
     ]
    }
   ],
   "source": [
    "nova = Dt.redefine(soma_inputs_e_printa,('5','7'))\n",
    "nova()\n",
    "nova()"
   ]
  },
  {
   "cell_type": "code",
   "execution_count": null,
   "metadata": {},
   "outputs": [
    {
     "name": "stdout",
     "output_type": "stream",
     "text": [
      "12\n"
     ]
    },
    {
     "data": {
      "text/plain": [
       "['7', '5']"
      ]
     },
     "execution_count": 4,
     "metadata": {},
     "output_type": "execute_result"
    }
   ],
   "source": [
    "Dt.input_interceptor(soma_inputs_e_printa)"
   ]
  },
  {
   "cell_type": "code",
   "execution_count": null,
   "metadata": {},
   "outputs": [
    {
     "name": "stdout",
     "output_type": "stream",
     "text": [
      "O n informado foi: 0\n",
      "2019\n"
     ]
    }
   ],
   "source": [
    "auto_nova = Dt.auto_redefine(soma_inputs_e_printa, input_verbose=True)"
   ]
  },
  {
   "cell_type": "code",
   "execution_count": null,
   "metadata": {},
   "outputs": [
    {
     "name": "stdout",
     "output_type": "stream",
     "text": [
      "O n informado foi: 75\n",
      "Digite um número:  1994\n",
      "Digite outro número:  1994\n",
      "4063\n"
     ]
    }
   ],
   "source": [
    "auto_nova(75)"
   ]
  },
  {
   "cell_type": "code",
   "execution_count": null,
   "metadata": {},
   "outputs": [],
   "source": [
    "def tuplefy(thing:list):\n",
    "    \"\"\"\n",
    "        redefine(fn, keyboard_inputs,input_verbose=False)\n",
    "\n",
    "        Return a new function that will use the 'keyboard_inputs' tuple\\\n",
    "            as simulated inputs, but will work as fn otherwise\n",
    "\n",
    "        ex.: call_menu = redefine(call_menu,('lorem ipsum','25','y','n'))\n",
    "\n",
    "        Parameters\n",
    "        ----------\n",
    "            fn: The function that will be copied but will use \\\n",
    "                the simulated inputs\n",
    "            keyboard_inputs: The inputs that will be simulated\n",
    "\n",
    "        Returns\n",
    "        -------\n",
    "            refedined_fn: Return a fn copy that will always \\\n",
    "                use the 'keyboard_inputs' as input simulation\n",
    "        \"\"\"\n",
    "    return thing if type(thing) is tuple else (thing,)"
   ]
  },
  {
   "cell_type": "code",
   "execution_count": null,
   "metadata": {},
   "outputs": [
    {
     "name": "stdout",
     "output_type": "stream",
     "text": [
      "<code object tuplefy at 0x000001CE3CE77240, file \"C:\\Users\\User\\AppData\\Local\\Temp/ipykernel_4740/1381623838.py\", line 1>\n"
     ]
    }
   ],
   "source": [
    "print(tuplefy.__code__)"
   ]
  },
  {
   "cell_type": "code",
   "execution_count": null,
   "metadata": {},
   "outputs": [
    {
     "name": "stdout",
     "output_type": "stream",
     "text": [
      "\n",
      "        redefine(fn, keyboard_inputs,input_verbose=False)\n",
      "\n",
      "        Return a new function that will use the 'keyboard_inputs' tuple            as simulated inputs, but will work as fn otherwise\n",
      "\n",
      "        ex.: call_menu = redefine(call_menu,('lorem ipsum','25','y','n'))\n",
      "\n",
      "        Parameters\n",
      "        ----------\n",
      "            fn: The function that will be copied but will use                 the simulated inputs\n",
      "            keyboard_inputs: The inputs that will be simulated\n",
      "\n",
      "        Returns\n",
      "        -------\n",
      "            refedined_fn: Return a fn copy that will always                 use the 'keyboard_inputs' as input simulation\n",
      "        \n"
     ]
    }
   ],
   "source": [
    "print(tuplefy.__doc__)"
   ]
  },
  {
   "cell_type": "code",
   "execution_count": null,
   "metadata": {},
   "outputs": [
    {
     "name": "stdout",
     "output_type": "stream",
     "text": [
      "tuplefy\n"
     ]
    }
   ],
   "source": [
    "print(tuplefy.__name__)"
   ]
  },
  {
   "cell_type": "code",
   "execution_count": null,
   "metadata": {},
   "outputs": [
    {
     "name": "stdout",
     "output_type": "stream",
     "text": [
      "{'thing': <class 'list'>}\n"
     ]
    }
   ],
   "source": [
    "print(tuplefy.__annotations__)"
   ]
  },
  {
   "cell_type": "code",
   "execution_count": 12,
   "metadata": {},
   "outputs": [],
   "source": [
    "def soma_diferente(x):\n",
    "    y=int(input(\"Digite um número: \"))\n",
    "    z=int(input(\"Digite um número: \"))\n",
    "    print(\"A soma é: \",x+y+z)\n",
    "    return x+y+z,7"
   ]
  },
  {
   "cell_type": "code",
   "execution_count": 2,
   "metadata": {},
   "outputs": [],
   "source": [
    "from didatictests import Didatic_test as Dt"
   ]
  },
  {
   "cell_type": "code",
   "execution_count": 14,
   "metadata": {},
   "outputs": [
    {
     "name": "stdout",
     "output_type": "stream",
     "text": [
      "A soma é:  584\n",
      "A soma é:  584\n"
     ]
    }
   ],
   "source": [
    "test_str = Dt.generate_test(soma_diferente, Dt.parse_args(5), 'teste 1', False, True, False)"
   ]
  },
  {
   "cell_type": "code",
   "execution_count": 15,
   "metadata": {},
   "outputs": [
    {
     "data": {
      "text/plain": [
       "\"Dt(soma_diferente, Dt.parse_args(5), 'teste 1', ('123', '456'), (584, 7), '', False, True, False)\""
      ]
     },
     "execution_count": 15,
     "metadata": {},
     "output_type": "execute_result"
    }
   ],
   "source": [
    "test_str"
   ]
  },
  {
   "cell_type": "code",
   "execution_count": 16,
   "metadata": {},
   "outputs": [
    {
     "name": "stdout",
     "output_type": "stream",
     "text": [
      "Case: teste 1\n",
      "outputs: ✔️                \n",
      "   ➖ Function args:      (5,) {}\n",
      "   ➖ Keyboard inputs:    ('123', '456')\n",
      "   ✔️ Function outputs:   (584, 7)                  \n",
      "   ➖ Expected output:    (584, 7)\n",
      "---------------------------------------------------\n"
     ]
    },
    {
     "data": {
      "text/plain": [
       "{'output_is_correct': True,\n",
       " 'print_is_correct': False,\n",
       " 'test_failed': False,\n",
       " 'test_done': True}"
      ]
     },
     "execution_count": 16,
     "metadata": {},
     "output_type": "execute_result"
    }
   ],
   "source": [
    "Dt(soma_diferente, Dt.parse_args(5), 'teste 1', ('123', '456'), (584, 7), '', False, True, False).run()"
   ]
  },
  {
   "cell_type": "code",
   "execution_count": 9,
   "metadata": {},
   "outputs": [
    {
     "name": "stdout",
     "output_type": "stream",
     "text": [
      "Case: teste 1\n",
      "outputs: ✔️                \n",
      "   ➖ Function args:      (5,) {}\n",
      "   ➖ Keyboard inputs:    ('14',)\n",
      "   ✔️ Function outputs:   19                  \n",
      "   ➖ Expected output:    19\n",
      "---------------------------------------------------\n"
     ]
    },
    {
     "data": {
      "text/plain": [
       "{'output_is_correct': True,\n",
       " 'print_is_correct': False,\n",
       " 'test_failed': False,\n",
       " 'test_done': True}"
      ]
     },
     "execution_count": 9,
     "metadata": {},
     "output_type": "execute_result"
    }
   ],
   "source": [
    "test.run()"
   ]
  },
  {
   "cell_type": "code",
   "execution_count": null,
   "metadata": {},
   "outputs": [],
   "source": [
    "test = Dt(soma_diferente, Dt.parse_args(5), 'teste 1', False, True, False)"
   ]
  },
  {
   "cell_type": "code",
   "execution_count": 16,
   "metadata": {},
   "outputs": [
    {
     "name": "stdout",
     "output_type": "stream",
     "text": [
      "({'a': 5}, [2, 3, 4], 3, x=12, y=5)\n"
     ]
    },
    {
     "data": {
      "text/plain": [
       "2"
      ]
     },
     "execution_count": 16,
     "metadata": {},
     "output_type": "execute_result"
    }
   ],
   "source": [
    "def print_args(args):\n",
    "    pos_args = args.get('pos_inputs',())\n",
    "    key_args = args.get('key_inputs',())\n",
    "    pos_args_str = str(pos_args).replace('(','').replace(')','')\n",
    "    key_args_str = ', '.join([f'{key}={value}' for key,value in key_args.items()])\n",
    "    args_str = ', '.join([pos_args_str,key_args_str]).strip(', ')\n",
    "    print(f\"({args_str})\")\n",
    "\n",
    "print_args(Dt.parse_args({'a':5},[2,3,4],3,x=12,y=5))\n",
    "1+1"
   ]
  },
  {
   "cell_type": "code",
   "execution_count": 19,
   "metadata": {},
   "outputs": [
    {
     "name": "stdout",
     "output_type": "stream",
     "text": [
      "(1, 2, 3)\n"
     ]
    }
   ],
   "source": [
    "print_args(Dt.parse_args(1,2,3))"
   ]
  },
  {
   "cell_type": "markdown",
   "metadata": {},
   "source": [
    "----"
   ]
  },
  {
   "cell_type": "code",
   "execution_count": 1,
   "metadata": {},
   "outputs": [
    {
     "name": "stdout",
     "output_type": "stream",
     "text": [
      "[I]: Digite o seu nome: makoto\n",
      "[I]: Digite a sua idade: 27\n",
      "[I]: Digite a sua altura: 1.85\n",
      "[I]: Digite o seu peso: 82\n",
      "['makoto', '27', '1.85', '82']\n",
      "['makoto', '27', '1.85', '82']\n"
     ]
    }
   ],
   "source": [
    "from didatictests import Didatic_test as Dt\n",
    "import builtins\n",
    "\n",
    "inputs = []\n",
    "input_fn_backup = builtins.input\n",
    "builtins.input = Dt.intercepted_input_fn(inputs,True,'[I]: ')\n",
    "\n",
    "nome = input(\"Digite o seu nome: \")\n",
    "idade = input(\"Digite a sua idade: \")\n",
    "altura = input(\"Digite a sua altura: \")\n",
    "peso = input(\"Digite o seu peso: \")\n",
    "\n",
    "print([nome,idade,altura,peso])\n",
    "print(inputs)"
   ]
  },
  {
   "cell_type": "code",
   "execution_count": 1,
   "metadata": {},
   "outputs": [
    {
     "ename": "AttributeError",
     "evalue": "type object 'Didatic_test' has no attribute 'intercepted_print_fn'",
     "output_type": "error",
     "traceback": [
      "\u001b[1;31m---------------------------------------------------------------------------\u001b[0m",
      "\u001b[1;31mAttributeError\u001b[0m                            Traceback (most recent call last)",
      "\u001b[1;32m~\\AppData\\Local\\Temp/ipykernel_16664/3412397321.py\u001b[0m in \u001b[0;36m<module>\u001b[1;34m\u001b[0m\n\u001b[0;32m      4\u001b[0m \u001b[0mprints\u001b[0m \u001b[1;33m=\u001b[0m \u001b[1;33m[\u001b[0m\u001b[1;33m]\u001b[0m\u001b[1;33m\u001b[0m\u001b[1;33m\u001b[0m\u001b[0m\n\u001b[0;32m      5\u001b[0m \u001b[0mprint_fn_backup\u001b[0m \u001b[1;33m=\u001b[0m \u001b[0mbuiltins\u001b[0m\u001b[1;33m.\u001b[0m\u001b[0mprint\u001b[0m\u001b[1;33m\u001b[0m\u001b[1;33m\u001b[0m\u001b[0m\n\u001b[1;32m----> 6\u001b[1;33m \u001b[0mbuiltins\u001b[0m\u001b[1;33m.\u001b[0m\u001b[0mprint\u001b[0m \u001b[1;33m=\u001b[0m \u001b[0mDt\u001b[0m\u001b[1;33m.\u001b[0m\u001b[0mintercepted_print_fn\u001b[0m\u001b[1;33m(\u001b[0m\u001b[0mprints\u001b[0m\u001b[1;33m,\u001b[0m\u001b[1;32mTrue\u001b[0m\u001b[1;33m,\u001b[0m\u001b[1;34m'[P]: '\u001b[0m\u001b[1;33m)\u001b[0m\u001b[1;33m\u001b[0m\u001b[1;33m\u001b[0m\u001b[0m\n\u001b[0m\u001b[0;32m      7\u001b[0m \u001b[1;33m\u001b[0m\u001b[0m\n\u001b[0;32m      8\u001b[0m \u001b[0mprint\u001b[0m\u001b[1;33m(\u001b[0m\u001b[1;34m\"Digite o seu nome: \"\u001b[0m\u001b[1;33m)\u001b[0m\u001b[1;33m\u001b[0m\u001b[1;33m\u001b[0m\u001b[0m\n",
      "\u001b[1;31mAttributeError\u001b[0m: type object 'Didatic_test' has no attribute 'intercepted_print_fn'"
     ]
    }
   ],
   "source": [
    "from didatictests import Didatic_test as Dt\n",
    "import builtins\n",
    "\n",
    "prints = []\n",
    "print_fn_backup = builtins.print\n",
    "builtins.print = Dt.intercepted_print_fn(prints,True,'[P]: ')\n",
    "\n",
    "print(\"Digite o seu nome: \")\n",
    "print(\"Digite a sua idade: \")\n",
    "print(\"Digite a sua altura: \")\n",
    "print(\"Digite o seu peso: \")\n",
    "\n",
    "builtins.print = print_fn_backup\n",
    "\n",
    "print(prints)"
   ]
  },
  {
   "cell_type": "code",
   "execution_count": 3,
   "metadata": {},
   "outputs": [
    {
     "name": "stdout",
     "output_type": "stream",
     "text": [
      "(1, 'a', True)\n",
      "{'x': 0, 'y': False, 'z': []}\n"
     ]
    }
   ],
   "source": [
    "def fn(*args,**kwargs):\n",
    "    print(args)\n",
    "    print(kwargs)\n",
    "\n",
    "fn(1,'a',True,x=0,y=False,z=[])"
   ]
  },
  {
   "cell_type": "code",
   "execution_count": 1,
   "metadata": {},
   "outputs": [
    {
     "name": "stdout",
     "output_type": "stream",
     "text": [
      "(1, 2, 3) {'d': 0, 'e': -1, 'jota': 'aaaaa'}\n",
      "aaaa (1, 2, 3) {'d': 0, 'e': -1, 'jota': 'aaaaa'}\n",
      "[p]: iniciando a função\n",
      "[i]: Digite o valor de x4\n",
      "[i]: Digite o valor de y5\n",
      "[i]: Digite o valor de z6\n",
      "[p]: total: 21\n"
     ]
    },
    {
     "data": {
      "text/plain": [
       "(21, 0, -1)"
      ]
     },
     "execution_count": 1,
     "metadata": {},
     "output_type": "execute_result"
    }
   ],
   "source": [
    "from didatictests import Didatic_test as Dt\n",
    "\n",
    "def soma(a,b,c,d,e,jota):\n",
    "    print('iniciando a função')\n",
    "    x = int(input(\"Digite o valor de x\"))\n",
    "    y = int(input(\"Digite o valor de y\"))\n",
    "    z = int(input(\"Digite o valor de z\"))\n",
    "    soma = sum([a,b,c,x,y,z])\n",
    "    print('total:', soma)\n",
    "    return soma,d,e\n",
    "\n",
    "interceptions = {}\n",
    "soma_interceptada = Dt.intercepted_fn(soma, interceptions, True, '[i]: ','[p]: ')\n",
    "soma_interceptada(1,2,3,d=0,e=-1,jota=\"aaaaa\")"
   ]
  },
  {
   "cell_type": "code",
   "execution_count": 2,
   "metadata": {},
   "outputs": [
    {
     "data": {
      "text/plain": [
       "{'prints': ['iniciando a função\\n', 'total: 21\\n'],\n",
       " 'inputs': ['4', '5', '6'],\n",
       " 'args': (1, 2, 3),\n",
       " 'kwargs': {'d': 0, 'e': -1, 'jota': 'aaaaa'},\n",
       " 'output': (21, 0, -1)}"
      ]
     },
     "execution_count": 2,
     "metadata": {},
     "output_type": "execute_result"
    }
   ],
   "source": [
    "interceptions"
   ]
  },
  {
   "cell_type": "code",
   "execution_count": 2,
   "metadata": {},
   "outputs": [
    {
     "data": {
      "text/plain": [
       "\"Didatic_test(soma, Didatic_test.parse_args(1, 2, 3, e=5, d=15), 'Teste-1', ['582', '693', '471'], (1752, 15, 5), 'iniciando a função\\ntotal: 1752\\n', True, True, True)\""
      ]
     },
     "execution_count": 2,
     "metadata": {},
     "output_type": "execute_result"
    }
   ],
   "source": [
    "from didatictests import Didatic_test\n",
    "\n",
    "def soma(a,b,c,d=0,e=7):\n",
    "    print('iniciando a função')\n",
    "    x = int(input(\"Digite o valor de x\"))\n",
    "    y = int(input(\"Digite o valor de y\"))\n",
    "    z = int(input(\"Digite o valor de z\"))\n",
    "    soma = sum([a,b,c,x,y,z])\n",
    "    print('total:', soma)\n",
    "    return soma,d,e\n",
    "\n",
    "Didatic_test.generate_test(soma,Didatic_test.parse_args(1,2,3,e=5,d=15),\"Teste-1\",True,True,True,False)"
   ]
  },
  {
   "cell_type": "code",
   "execution_count": 4,
   "metadata": {},
   "outputs": [
    {
     "name": "stdout",
     "output_type": "stream",
     "text": [
      "Case: Teste-1\n",
      "outputs: ✔️  prints: ✔️                \n",
      "---------------------------------------------------\n"
     ]
    },
    {
     "data": {
      "text/plain": [
       "{'output_is_correct': True,\n",
       " 'print_is_correct': True,\n",
       " 'test_failed': False,\n",
       " 'test_done': True}"
      ]
     },
     "execution_count": 4,
     "metadata": {},
     "output_type": "execute_result"
    }
   ],
   "source": [
    "Didatic_test(soma, Didatic_test.parse_args(1, 2, 3, e=5, d=15), 'Teste-1', ['582', '693', '471'], (1752, 15, 5), 'iniciando a função\\ntotal: 1752\\n', False, True, True).run()"
   ]
  },
  {
   "cell_type": "markdown",
   "metadata": {},
   "source": [
    "----"
   ]
  },
  {
   "cell_type": "code",
   "execution_count": 1,
   "metadata": {},
   "outputs": [
    {
     "name": "stdout",
     "output_type": "stream",
     "text": [
      "iniciando a função\n",
      "total: 18\n"
     ]
    },
    {
     "data": {
      "text/plain": [
       "(18, 4, 5)"
      ]
     },
     "execution_count": 1,
     "metadata": {},
     "output_type": "execute_result"
    }
   ],
   "source": [
    "from didatictests import Didatic_test\n",
    "\n",
    "def soma(a,b,c,d=0,e=7):\n",
    "    print('iniciando a função')\n",
    "    x = int(input(\"Digite o valor de x\"))\n",
    "    y = int(input(\"Digite o valor de y\"))\n",
    "    z = int(input(\"Digite o valor de z\"))\n",
    "    soma = sum([a,b,c,x,y,z])\n",
    "    print('total:', soma)\n",
    "    return soma,d,e\n",
    "\n",
    "soma2 = Didatic_test.auto_redefine(soma,Didatic_test.parse_args(1,2,3,e=5,d=15),False)\n",
    "soma2(1,2,3,d=4,e=5)"
   ]
  },
  {
   "cell_type": "code",
   "execution_count": 21,
   "metadata": {},
   "outputs": [
    {
     "name": "stdout",
     "output_type": "stream",
     "text": [
      "iniciando a função\n",
      "total: 18\n"
     ]
    },
    {
     "data": {
      "text/plain": [
       "(18, 4, 5)"
      ]
     },
     "execution_count": 21,
     "metadata": {},
     "output_type": "execute_result"
    }
   ],
   "source": [
    "soma2(1,2,3,d=4,e=5)"
   ]
  },
  {
   "cell_type": "markdown",
   "metadata": {},
   "source": [
    "---"
   ]
  },
  {
   "cell_type": "code",
   "execution_count": 1,
   "metadata": {},
   "outputs": [
    {
     "name": "stdout",
     "output_type": "stream",
     "text": [
      "iniciando a função\n",
      "total: 30\n"
     ]
    },
    {
     "data": {
      "text/plain": [
       "(30, 4, 5)"
      ]
     },
     "execution_count": 1,
     "metadata": {},
     "output_type": "execute_result"
    }
   ],
   "source": [
    "from didatictests import Didatic_test\n",
    "\n",
    "def soma(a,b,c,d=0,e=7):\n",
    "    print('iniciando a função')\n",
    "    x = int(input(\"Digite o valor de x\"))\n",
    "    y = int(input(\"Digite o valor de y\"))\n",
    "    z = int(input(\"Digite o valor de z\"))\n",
    "    soma = sum([a,b,c,x,y,z])\n",
    "    print('total:', soma)\n",
    "    return soma,d,e\n",
    "\n",
    "soma2 = Didatic_test.redefine2(soma,['7','8','9'],False)\n",
    "soma2(1,2,3,d=4,e=5)"
   ]
  },
  {
   "cell_type": "code",
   "execution_count": 13,
   "metadata": {},
   "outputs": [
    {
     "name": "stdout",
     "output_type": "stream",
     "text": [
      "iniciando a função\n",
      "total: 30\n"
     ]
    },
    {
     "data": {
      "text/plain": [
       "(30, 4, 5)"
      ]
     },
     "execution_count": 13,
     "metadata": {},
     "output_type": "execute_result"
    }
   ],
   "source": [
    "soma2(1,2,3,d=4,e=5)"
   ]
  },
  {
   "cell_type": "markdown",
   "metadata": {},
   "source": [
    "-----"
   ]
  },
  {
   "cell_type": "code",
   "execution_count": 24,
   "metadata": {},
   "outputs": [
    {
     "data": {
      "text/plain": [
       "['b', 'c']"
      ]
     },
     "execution_count": 24,
     "metadata": {},
     "output_type": "execute_result"
    }
   ],
   "source": [
    "x = ['a','b','c']\n",
    "x.remove('a')\n",
    "x"
   ]
  }
 ],
 "metadata": {
  "interpreter": {
   "hash": "63fd5069d213b44bf678585dea6b12cceca9941eaf7f819626cde1f2670de90d"
  },
  "kernelspec": {
   "display_name": "Python 3.9.6 64-bit",
   "language": "python",
   "name": "python3"
  },
  "language_info": {
   "codemirror_mode": {
    "name": "ipython",
    "version": 3
   },
   "file_extension": ".py",
   "mimetype": "text/x-python",
   "name": "python",
   "nbconvert_exporter": "python",
   "pygments_lexer": "ipython3",
   "version": "3.9.6"
  },
  "orig_nbformat": 4
 },
 "nbformat": 4,
 "nbformat_minor": 2
}
